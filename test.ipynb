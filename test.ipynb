{
  "nbformat": 4,
  "nbformat_minor": 0,
  "metadata": {
    "colab": {
      "name": "colab_easy_one_drive.ipynb",
      "provenance": [],
      "collapsed_sections": []
    },
    "kernelspec": {
      "name": "python3",
      "display_name": "Python 3"
    }
  },
  "cells": [
    {
      "cell_type": "code",
      "metadata": {
        "id": "VztSWe55QbVG"
      },
      "source": [
        "# Installing Selenium with this shortcut\r\n",
        "!pip install kora"
      ],
      "execution_count": null,
      "outputs": []
    },
    {
      "cell_type": "code",
      "metadata": {
        "id": "XyxUle3ExNFT"
      },
      "source": [
        "import os\r\n",
        "!git clone https://github.com/andyterr170796/easy_one_drive.git\r\n",
        "\r\n",
        "import sys\r\n",
        "sys.path.insert(0,os.path.join(os.getcwd(),'easy_one_drive'))\r\n",
        "\r\n",
        "from kora.selenium import wd as driver\r\n",
        "from easy_one_drive import easy_one_drive\r\n",
        "s = easy_one_drive('indecopicem@hotmail.com','',chromedriver=driver)\r\n",
        "s.logging_in()\r\n",
        "s.download_file('','Base Quantico',45)\r\n",
        "s.download_file('','Base Quantico February 2021.xlsx',30)\r\n",
        "s.download_file('',['Base Quantico February 2021.xlsx','Base Quantico March 2021.xlsx'],30)\r\n",
        "s.download_folder('','Quantico-data_final',30)\r\n",
        "s.upload_file('','/content/README.md',30)\r\n",
        "s.logging_out()"
      ],
      "execution_count": null,
      "outputs": []
    }
  ]
}
